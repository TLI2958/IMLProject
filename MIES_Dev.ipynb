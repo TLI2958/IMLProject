{
 "cells": [
  {
   "cell_type": "code",
   "execution_count": 1,
   "metadata": {
    "code_folding": []
   },
   "outputs": [],
   "source": [
    "# import packages\n",
    "import pandas as pd\n",
    "import numpy as np\n",
    "import sklearn\n",
    "from sklearn.model_selection import train_test_split\n",
    "from sklearn.preprocessing import LabelEncoder"
   ]
  },
  {
   "cell_type": "code",
   "execution_count": 2,
   "metadata": {},
   "outputs": [],
   "source": [
    "# Data preprocessing\n",
    "\n",
    "# import dataset, convert to readable data frame\n",
    "data = pd.read_csv('data.csv')\n",
    "response = data['Q1A\\tQ1I\\tQ1E\\tQ2A\\tQ2I\\tQ2E\\tQ3A\\tQ3I\\tQ3E\\tQ4A\\tQ4I\\tQ4E\\tQ5A\\tQ5I\\tQ5E\\tQ6A\\tQ6I\\tQ6E\\tQ7A\\tQ7I\\tQ7E\\tQ8A\\tQ8I\\tQ8E\\tQ9A\\tQ9I\\tQ9E\\tQ10A\\tQ10I\\tQ10E\\tQ11A\\tQ11I\\tQ11E\\tQ12A\\tQ12I\\tQ12E\\tQ13A\\tQ13I\\tQ13E\\tQ14A\\tQ14I\\tQ14E\\tQ15A\\tQ15I\\tQ15E\\tQ16A\\tQ16I\\tQ16E\\tQ17A\\tQ17I\\tQ17E\\tQ18A\\tQ18I\\tQ18E\\tQ19A\\tQ19I\\tQ19E\\tQ20A\\tQ20I\\tQ20E\\tQ21A\\tQ21I\\tQ21E\\tQ22A\\tQ22I\\tQ22E\\tQ23A\\tQ23I\\tQ23E\\tQ24A\\tQ24I\\tQ24E\\tQ25A\\tQ25I\\tQ25E\\tQ26A\\tQ26I\\tQ26E\\tQ27A\\tQ27I\\tQ27E\\tQ28A\\tQ28I\\tQ28E\\tQ29A\\tQ29I\\tQ29E\\tQ30A\\tQ30I\\tQ30E\\tQ31A\\tQ31I\\tQ31E\\tQ32A\\tQ32I\\tQ32E\\tQ33A\\tQ33I\\tQ33E\\tQ34A\\tQ34I\\tQ34E\\tQ35A\\tQ35I\\tQ35E\\tQ36A\\tQ36I\\tQ36E\\tQ37A\\tQ37I\\tQ37E\\tQ38A\\tQ38I\\tQ38E\\tQ39A\\tQ39I\\tQ39E\\tQ40A\\tQ40I\\tQ40E\\tQ41A\\tQ41I\\tQ41E\\tQ42A\\tQ42I\\tQ42E\\tQ43A\\tQ43I\\tQ43E\\tQ44A\\tQ44I\\tQ44E\\tQ45A\\tQ45I\\tQ45E\\tQ46A\\tQ46I\\tQ46E\\tQ47A\\tQ47I\\tQ47E\\tQ48A\\tQ48I\\tQ48E\\tQ49A\\tQ49I\\tQ49E\\tQ50A\\tQ50I\\tQ50E\\tQ51A\\tQ51I\\tQ51E\\tQ52A\\tQ52I\\tQ52E\\tQ53A\\tQ53I\\tQ53E\\tQ54A\\tQ54I\\tQ54E\\tQ55A\\tQ55I\\tQ55E\\tQ56A\\tQ56I\\tQ56E\\tQ57A\\tQ57I\\tQ57E\\tQ58A\\tQ58I\\tQ58E\\tQ59A\\tQ59I\\tQ59E\\tQ60A\\tQ60I\\tQ60E\\tQ61A\\tQ61I\\tQ61E\\tQ62A\\tQ62I\\tQ62E\\tQ63A\\tQ63I\\tQ63E\\tQ64A\\tQ64I\\tQ64E\\tQ65A\\tQ65I\\tQ65E\\tQ66A\\tQ66I\\tQ66E\\tQ67A\\tQ67I\\tQ67E\\tQ68A\\tQ68I\\tQ68E\\tQ69A\\tQ69I\\tQ69E\\tQ70A\\tQ70I\\tQ70E\\tQ71A\\tQ71I\\tQ71E\\tQ72A\\tQ72I\\tQ72E\\tQ73A\\tQ73I\\tQ73E\\tQ74A\\tQ74I\\tQ74E\\tQ75A\\tQ75I\\tQ75E\\tQ76A\\tQ76I\\tQ76E\\tQ77A\\tQ77I\\tQ77E\\tQ78A\\tQ78I\\tQ78E\\tQ79A\\tQ79I\\tQ79E\\tQ80A\\tQ80I\\tQ80E\\tQ81A\\tQ81I\\tQ81E\\tQ82A\\tQ82I\\tQ82E\\tQ83A\\tQ83I\\tQ83E\\tQ84A\\tQ84I\\tQ84E\\tQ85A\\tQ85I\\tQ85E\\tQ86A\\tQ86I\\tQ86E\\tQ87A\\tQ87I\\tQ87E\\tQ88A\\tQ88I\\tQ88E\\tQ89A\\tQ89I\\tQ89E\\tQ90A\\tQ90I\\tQ90E\\tQ91A\\tQ91I\\tQ91E\\tcountry\\tdateload\\tintroelapse\\ttestelapse\\tsurveyelapse\\tgender\\tengnat\\tage\\tIE'].str.split(\n",
    "    '\\t')\n",
    "\n",
    "df = pd.DataFrame(columns=[i for i in data.columns.str.split('\\t')[\n",
    "                  0]], index=np.arange(len(data)))\n",
    "for i in np.arange(len(df)):\n",
    "    df.values[i] = response[i]\n",
    "\n",
    "# convert strings to integers, dummy-coding categorical values\n",
    "dummycol = ['country', 'gender', 'engnat', 'dateload']  # columns to dummy code\n",
    "IE = df['IE']  # criterion\n",
    "numcol = df.drop(dummycol, axis=1)  # columns to integers\n",
    "\n",
    "for i in numcol:\n",
    "    df[i] = numcol[i].apply(lambda x: int(x))  # convert strings to integers\n",
    "\n",
    "features = df.iloc[:, :-1]  # leave the last column off, these are features\n",
    "\n",
    "# dummy coding categorical values\n",
    "for i in dummycol:\n",
    "    df[i] = LabelEncoder().fit_transform(df[i])\n",
    "\n",
    "IE = LabelEncoder().fit_transform(IE)  # dummy coding criterion"
   ]
  },
  {
   "cell_type": "code",
   "execution_count": 3,
   "metadata": {},
   "outputs": [],
   "source": [
    "# Perhaps filter data, but on what criterion?"
   ]
  },
  {
   "cell_type": "code",
   "execution_count": 4,
   "metadata": {},
   "outputs": [],
   "source": [
    "# Split train & test data\n",
    "X_train, y_train, X_test, y_test = train_test_split(features,IE,random_state = 0)"
   ]
  },
  {
   "cell_type": "code",
   "execution_count": 5,
   "metadata": {},
   "outputs": [],
   "source": [
    "# Machine Learning, Evaluation, relevent features, optimal paramters"
   ]
  }
 ],
 "metadata": {
  "kernelspec": {
   "display_name": "Python 3",
   "language": "python",
   "name": "python3"
  },
  "language_info": {
   "codemirror_mode": {
    "name": "ipython",
    "version": 3
   },
   "file_extension": ".py",
   "mimetype": "text/x-python",
   "name": "python",
   "nbconvert_exporter": "python",
   "pygments_lexer": "ipython3",
   "version": "3.7.4"
  }
 },
 "nbformat": 4,
 "nbformat_minor": 2
}
